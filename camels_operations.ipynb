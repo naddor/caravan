{
 "cells": [
  {
   "cell_type": "markdown",
   "metadata": {},
   "source": [
    "# Test basic CAMELS operations using Pangeo/binder\n",
    "\n",
    "## Environment setup"
   ]
  },
  {
   "cell_type": "code",
   "execution_count": 16,
   "metadata": {},
   "outputs": [],
   "source": [
    "library(data.table)\n",
    "# library(sf)\n",
    "\n",
    "# set up access to google cloud storage\n",
    "\n",
    "Sys.setenv(\"GCS_DEFAULT_BUCKET\" = \"my-default-bucket\",\n",
    "           \"GCS_AUTH_FILE\" = \"/fullpath/to/service-auth.json\")\n",
    "\n",
    "CAMELS_ROOT <- 'pangeo-data/camels/basin_dataset_public_v1p2'\n",
    "\n",
    "\n",
    "library(googleCloudStorageR)"
   ]
  },
  {
   "cell_type": "markdown",
   "metadata": {},
   "source": [
    "## Retrieve CAMELS time series and compute hydrological signatures\n",
    "\n",
    "Fetch functions to compute hydrological signatures and climatic indices e.g. BFI"
   ]
  },
  {
   "cell_type": "code",
   "execution_count": 13,
   "metadata": {},
   "outputs": [],
   "source": [
    "  source('https://raw.github.com/TonyLadson/BaseflowSeparation_LyneHollick/master/BFI.R')"
   ]
  },
  {
   "cell_type": "markdown",
   "metadata": {},
   "source": [
    "Load streamflow data"
   ]
  },
  {
   "cell_type": "raw",
   "metadata": {},
   "source": [
    "# set paths\n",
    "FILE_SYSTEM = gcsfs.core.GCSFileSystem()\n",
    "CAMELS_ROOT = Path('pangeo-data/camels/basin_dataset_public_v1p2')"
   ]
  },
  {
   "cell_type": "markdown",
   "metadata": {},
   "source": [
    "Compute BFI"
   ]
  },
  {
   "cell_type": "code",
   "execution_count": 16,
   "metadata": {},
   "outputs": [
    {
     "ename": "ERROR",
     "evalue": "Error in BFI(q, alpha, passes, ReturnQbase = TRUE): object 'passes' not found\n",
     "output_type": "error",
     "traceback": [
      "Error in BFI(q, alpha, passes, ReturnQbase = TRUE): object 'passes' not found\nTraceback:\n",
      "1. BFI(q, alpha, passes, ReturnQbase = TRUE)"
     ]
    }
   ],
   "source": [
    "dat_landson<-BFI(q,alpha,passes,ReturnQbase=TRUE)\n",
    "bf_landson<-dat_landson$Qbase"
   ]
  },
  {
   "cell_type": "markdown",
   "metadata": {},
   "source": [
    "## Upload own catchments and display their boundaries"
   ]
  },
  {
   "cell_type": "markdown",
   "metadata": {},
   "source": [
    "## Intersect catchments with grid and save weights \n",
    "\n"
   ]
  }
 ],
 "metadata": {
  "kernelspec": {
   "display_name": "R",
   "language": "R",
   "name": "ir"
  },
  "language_info": {
   "codemirror_mode": "r",
   "file_extension": ".r",
   "mimetype": "text/x-r-source",
   "name": "R",
   "pygments_lexer": "r",
   "version": "3.6.2"
  }
 },
 "nbformat": 4,
 "nbformat_minor": 2
}
